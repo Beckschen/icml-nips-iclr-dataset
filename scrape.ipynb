{
 "cells": [
  {
   "cell_type": "code",
   "execution_count": 1,
   "metadata": {},
   "outputs": [],
   "source": [
    "import multiprocessing\n",
    "import os\n",
    "\n",
    "import bs4\n",
    "import pandas as pd\n",
    "import requests\n",
    "from tqdm import tqdm_notebook as tqdm"
   ]
  },
  {
   "cell_type": "code",
   "execution_count": 2,
   "metadata": {},
   "outputs": [],
   "source": [
    "class Conference:\n",
    "    def __init__(self, host, year):\n",
    "        self.papers_url = f\"https://{host}/Conferences/{year}/Schedule\"\n",
    "        self.paper_url = f\"https://{host}/Conferences/{year}/Schedule?showEvent={{}}\"\n",
    "        self.author_url = f\"https://{host}/Conferences/{year}/Schedule?showSpeaker={{}}\"\n",
    "        \n",
    "def load_paper_ids(url):\n",
    "    response = requests.get(url)\n",
    "    doc = bs4.BeautifulSoup(response.text)\n",
    "\n",
    "    cards = doc.select(\".maincard.Poster\")\n",
    "\n",
    "    return [c.attrs[\"id\"][9:] for c in cards]\n",
    "\n",
    "def load_paper(link):\n",
    "    response = requests.get(link)\n",
    "    doc = bs4.BeautifulSoup(response.text)\n",
    "    box = doc.select(\".maincard\")[0].parent\n",
    "    title = box.select(\".maincardBody\")[0].text.strip()\n",
    "    authors = [(b.text.strip()[:-2].strip(), b.attrs[\"onclick\"][13:-3]) for b in box.findAll(\"button\")]\n",
    "\n",
    "    return title, authors\n",
    "\n",
    "def load_author(link):\n",
    "    response = requests.get(link)\n",
    "    doc = bs4.BeautifulSoup(response.text)\n",
    "    box = doc.select(\".maincard\")[0].parent\n",
    "    name = box.find(\"h3\").text.strip()\n",
    "    affiliation = box.find(\"h4\").text.strip()\n",
    "    \n",
    "    return name, affiliation\n",
    "\n",
    "def scrape_conference(pool, conference):\n",
    "    paper_ids = load_paper_ids(conference.papers_url)\n",
    "    paper_links = [conference.paper_url.format(id) for id in paper_ids]\n",
    "    papers = list(tqdm(pool.imap(load_paper, paper_links), total=len(paper_links)))\n",
    "    \n",
    "    author_ids = [id for _, authors in papers for name, id in authors]\n",
    "    author_links = set(conference.author_url.format(id) for id in author_ids)\n",
    "    authors = list(tqdm(pool.imap(load_author, author_links), total=len(author_links)))\n",
    "    \n",
    "    affiliations = dict(authors)\n",
    "    papers = [(title, [(name, affiliations[name]) for name, _ in authors]) \n",
    "              for title, authors in papers]\n",
    "\n",
    "    unnormalized = [(title, author, affiliation)\n",
    "                    for title, authors in papers\n",
    "                    for author, affiliation in authors]\n",
    "\n",
    "    return pd.DataFrame(unnormalized, columns=[\"Title\", \"Author\", \"Affiliation\"])"
   ]
  },
  {
   "cell_type": "code",
   "execution_count": 3,
   "metadata": {},
   "outputs": [
    {
     "data": {
      "application/vnd.jupyter.widget-view+json": {
       "model_id": "2632078d98ee4d80a08bf7820a92a32c",
       "version_major": 2,
       "version_minor": 0
      },
      "text/plain": [
       "HBox(children=(IntProgress(value=0, max=433), HTML(value='')))"
      ]
     },
     "metadata": {},
     "output_type": "display_data"
    },
    {
     "name": "stdout",
     "output_type": "stream",
     "text": [
      "\n"
     ]
    },
    {
     "data": {
      "application/vnd.jupyter.widget-view+json": {
       "model_id": "e4d3bff409134c1cb99795b4ec04b429",
       "version_major": 2,
       "version_minor": 0
      },
      "text/plain": [
       "HBox(children=(IntProgress(value=0, max=1584), HTML(value='')))"
      ]
     },
     "metadata": {},
     "output_type": "display_data"
    },
    {
     "name": "stdout",
     "output_type": "stream",
     "text": [
      "\n"
     ]
    },
    {
     "data": {
      "application/vnd.jupyter.widget-view+json": {
       "model_id": "a40086d9e434472694229d205c1de4dc",
       "version_major": 2,
       "version_minor": 0
      },
      "text/plain": [
       "HBox(children=(IntProgress(value=0, max=621), HTML(value='')))"
      ]
     },
     "metadata": {},
     "output_type": "display_data"
    },
    {
     "name": "stdout",
     "output_type": "stream",
     "text": [
      "\n"
     ]
    },
    {
     "data": {
      "application/vnd.jupyter.widget-view+json": {
       "model_id": "3450b451909e4990b3ad555db2d16adc",
       "version_major": 2,
       "version_minor": 0
      },
      "text/plain": [
       "HBox(children=(IntProgress(value=0, max=2314), HTML(value='')))"
      ]
     },
     "metadata": {},
     "output_type": "display_data"
    },
    {
     "name": "stdout",
     "output_type": "stream",
     "text": [
      "\n"
     ]
    }
   ],
   "source": [
    "icml_papers = []\n",
    "for year in [2017, 2018]:\n",
    "    conf = Conference(\"icml.cc\", str(year))\n",
    "\n",
    "    with multiprocessing.Pool(3 * os.cpu_count()) as pool:\n",
    "        papers = scrape_conference(pool, conf)\n",
    "        papers.insert(0, \"Conference\", \"ICML\")\n",
    "        papers.insert(1, \"Year\", year)\n",
    "        \n",
    "    icml_papers.append(papers)"
   ]
  },
  {
   "cell_type": "code",
   "execution_count": null,
   "metadata": {},
   "outputs": [
    {
     "data": {
      "application/vnd.jupyter.widget-view+json": {
       "model_id": "21e25047e0d24cfeb25ea319fb74efbf",
       "version_major": 2,
       "version_minor": 0
      },
      "text/plain": [
       "HBox(children=(IntProgress(value=0, max=568), HTML(value='')))"
      ]
     },
     "metadata": {},
     "output_type": "display_data"
    },
    {
     "name": "stdout",
     "output_type": "stream",
     "text": [
      "\n"
     ]
    },
    {
     "data": {
      "application/vnd.jupyter.widget-view+json": {
       "model_id": "4e388cf13a814258a06d4dfd95d8379e",
       "version_major": 2,
       "version_minor": 0
      },
      "text/plain": [
       "HBox(children=(IntProgress(value=0, max=1956), HTML(value='')))"
      ]
     },
     "metadata": {},
     "output_type": "display_data"
    },
    {
     "name": "stdout",
     "output_type": "stream",
     "text": [
      "\n"
     ]
    },
    {
     "data": {
      "application/vnd.jupyter.widget-view+json": {
       "model_id": "2207be786cae42b1878e5ce52d57da29",
       "version_major": 2,
       "version_minor": 0
      },
      "text/plain": [
       "HBox(children=(IntProgress(value=0, max=431), HTML(value='')))"
      ]
     },
     "metadata": {},
     "output_type": "display_data"
    },
    {
     "name": "stdout",
     "output_type": "stream",
     "text": [
      "\n"
     ]
    },
    {
     "data": {
      "application/vnd.jupyter.widget-view+json": {
       "model_id": "596df3c7e1ba4887a31b682925a7b1fc",
       "version_major": 2,
       "version_minor": 0
      },
      "text/plain": [
       "HBox(children=(IntProgress(value=0, max=1519), HTML(value='')))"
      ]
     },
     "metadata": {},
     "output_type": "display_data"
    },
    {
     "name": "stdout",
     "output_type": "stream",
     "text": [
      "\n"
     ]
    },
    {
     "data": {
      "application/vnd.jupyter.widget-view+json": {
       "model_id": "41cec4fb3e904fdbba3cc3c1b9a44856",
       "version_major": 2,
       "version_minor": 0
      },
      "text/plain": [
       "HBox(children=(IntProgress(value=1, bar_style='info', max=1), HTML(value='')))"
      ]
     },
     "metadata": {},
     "output_type": "display_data"
    },
    {
     "name": "stdout",
     "output_type": "stream",
     "text": [
      "\n"
     ]
    },
    {
     "data": {
      "application/vnd.jupyter.widget-view+json": {
       "model_id": "1a1247c4c3dc4c4a87c4bf2c1de98b2b",
       "version_major": 2,
       "version_minor": 0
      },
      "text/plain": [
       "HBox(children=(IntProgress(value=1, bar_style='info', max=1), HTML(value='')))"
      ]
     },
     "metadata": {},
     "output_type": "display_data"
    },
    {
     "name": "stdout",
     "output_type": "stream",
     "text": [
      "\n"
     ]
    }
   ],
   "source": [
    "nips_papers = []\n",
    "for year in [2016, 2017, 2018]:\n",
    "    conf = Conference(\"nips.cc\", str(year))\n",
    "\n",
    "    with multiprocessing.Pool(3 * os.cpu_count()) as pool:\n",
    "        papers = scrape_conference(pool, conf)\n",
    "        papers.insert(0, \"Conference\", \"NIPS\")\n",
    "        papers.insert(1, \"Year\", year)\n",
    "        \n",
    "    nips_papers.append(papers)"
   ]
  },
  {
   "cell_type": "code",
   "execution_count": null,
   "metadata": {},
   "outputs": [
    {
     "data": {
      "application/vnd.jupyter.widget-view+json": {
       "model_id": "22bb8133bfaa4690aedb30938c83c632",
       "version_major": 2,
       "version_minor": 0
      },
      "text/plain": [
       "HBox(children=(IntProgress(value=0, max=336), HTML(value='')))"
      ]
     },
     "metadata": {},
     "output_type": "display_data"
    },
    {
     "name": "stdout",
     "output_type": "stream",
     "text": [
      "\n"
     ]
    },
    {
     "data": {
      "application/vnd.jupyter.widget-view+json": {
       "model_id": "af557f9f0c9f4aa1b83f4b49a3b3ed61",
       "version_major": 2,
       "version_minor": 0
      },
      "text/plain": [
       "HBox(children=(IntProgress(value=0, max=1412), HTML(value='')))"
      ]
     },
     "metadata": {},
     "output_type": "display_data"
    }
   ],
   "source": [
    "iclr_papers = []\n",
    "for year in [2018]:\n",
    "    conf = Conference(\"iclr.cc\", str(year))\n",
    "\n",
    "    with multiprocessing.Pool(3 * os.cpu_count()) as pool:\n",
    "        papers = scrape_conference(pool, conf)\n",
    "        papers.insert(0, \"Conference\", \"ICLR\")\n",
    "        papers.insert(1, \"Year\", year)\n",
    "        \n",
    "    iclr_papers.append(papers)"
   ]
  },
  {
   "cell_type": "code",
   "execution_count": null,
   "metadata": {},
   "outputs": [],
   "source": [
    "all_papers = pd.concat(icml_papers + nips_papers + iclr_papers)\n",
    "\n",
    "# Fix multiple spaces in author names\n",
    "all_papers[\"Author\"] = all_papers[\"Author\"].replace(\"\\s+\", \" \", regex=True)\n",
    "\n",
    "all_papers.to_csv(\"papers.csv\", index=False)"
   ]
  }
 ],
 "metadata": {
  "kernelspec": {
   "display_name": "Python 3",
   "language": "python",
   "name": "python3"
  },
  "language_info": {
   "codemirror_mode": {
    "name": "ipython",
    "version": 3
   },
   "file_extension": ".py",
   "mimetype": "text/x-python",
   "name": "python",
   "nbconvert_exporter": "python",
   "pygments_lexer": "ipython3",
   "version": "3.6.6"
  }
 },
 "nbformat": 4,
 "nbformat_minor": 2
}
